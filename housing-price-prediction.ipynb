{
 "cells": [
  {
   "cell_type": "code",
   "execution_count": 1,
   "id": "da552a98",
   "metadata": {
    "_cell_guid": "b1076dfc-b9ad-4769-8c92-a6c4dae69d19",
    "_uuid": "8f2839f25d086af736a60e9eeb907d3b93b6e0e5",
    "execution": {
     "iopub.execute_input": "2023-07-10T16:33:00.432591Z",
     "iopub.status.busy": "2023-07-10T16:33:00.431517Z",
     "iopub.status.idle": "2023-07-10T16:33:01.922956Z",
     "shell.execute_reply": "2023-07-10T16:33:01.921596Z"
    },
    "papermill": {
     "duration": 1.499674,
     "end_time": "2023-07-10T16:33:01.926234",
     "exception": false,
     "start_time": "2023-07-10T16:33:00.426560",
     "status": "completed"
    },
    "tags": []
   },
   "outputs": [
    {
     "name": "stdout",
     "output_type": "stream",
     "text": [
      "   Rooms  Bathroom  Landsize  Lattitude  Longtitude\n",
      "0      2       1.0     202.0   -37.7996    144.9984\n",
      "1      2       1.0     156.0   -37.8079    144.9934\n",
      "2      3       2.0     134.0   -37.8093    144.9944\n",
      "3      3       2.0      94.0   -37.7969    144.9969\n",
      "4      4       1.0     120.0   -37.8072    144.9941\n"
     ]
    }
   ],
   "source": [
    "import pandas as pd\n",
    "from sklearn.tree import DecisionTreeRegressor\n",
    "import matplotlib.pyplot as plt\n",
    "\n",
    "melbourne_file_path = '../input/melbourne-housing-snapshot/melb_data.csv'\n",
    "melbourne_data = pd.read_csv(melbourne_file_path) \n",
    "melbourne_data.columns\n",
    "melbourne_data.dropna(axis=0)\n",
    "y = melbourne_data.Price\n",
    "melbourne_features = ['Rooms', 'Bathroom', 'Landsize', 'Lattitude', 'Longtitude']\n",
    "X=melbourne_data[melbourne_features]\n",
    "X.describe()\n",
    "print(X.head())\n"
   ]
  },
  {
   "cell_type": "code",
   "execution_count": 2,
   "id": "fc128730",
   "metadata": {
    "execution": {
     "iopub.execute_input": "2023-07-10T16:33:01.933223Z",
     "iopub.status.busy": "2023-07-10T16:33:01.932418Z",
     "iopub.status.idle": "2023-07-10T16:33:02.015126Z",
     "shell.execute_reply": "2023-07-10T16:33:02.013820Z"
    },
    "papermill": {
     "duration": 0.089144,
     "end_time": "2023-07-10T16:33:02.017854",
     "exception": false,
     "start_time": "2023-07-10T16:33:01.928710",
     "status": "completed"
    },
    "tags": []
   },
   "outputs": [
    {
     "name": "stdout",
     "output_type": "stream",
     "text": [
      "The predictions for the first few houses are\n",
      "[1480000. 1035000. 1465000. ... 1170000. 2500000. 1285000.]\n"
     ]
    }
   ],
   "source": [
    "melbourne_model = DecisionTreeRegressor(random_state=3)\n",
    "melbourne_model.fit(X,y)\n",
    "print(\"The predictions for the first few houses are\")\n",
    "print(melbourne_model.predict(X))"
   ]
  }
 ],
 "metadata": {
  "kernelspec": {
   "display_name": "Python 3",
   "language": "python",
   "name": "python3"
  },
  "language_info": {
   "codemirror_mode": {
    "name": "ipython",
    "version": 3
   },
   "file_extension": ".py",
   "mimetype": "text/x-python",
   "name": "python",
   "nbconvert_exporter": "python",
   "pygments_lexer": "ipython3",
   "version": "3.7.12"
  },
  "papermill": {
   "default_parameters": {},
   "duration": 13.244114,
   "end_time": "2023-07-10T16:33:02.841817",
   "environment_variables": {},
   "exception": null,
   "input_path": "__notebook__.ipynb",
   "output_path": "__notebook__.ipynb",
   "parameters": {},
   "start_time": "2023-07-10T16:32:49.597703",
   "version": "2.3.4"
  }
 },
 "nbformat": 4,
 "nbformat_minor": 5
}
